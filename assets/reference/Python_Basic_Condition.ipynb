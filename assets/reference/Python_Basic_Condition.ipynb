{
  "nbformat": 4,
  "nbformat_minor": 0,
  "metadata": {
    "colab": {
      "name": "Python_Basic_Condition.ipynb",
      "provenance": [],
      "collapsed_sections": []
    },
    "kernelspec": {
      "name": "python3",
      "display_name": "Python 3"
    }
  },
  "cells": [
    {
      "cell_type": "markdown",
      "metadata": {
        "id": "MRlyz9-TQ8WO"
      },
      "source": [
        "### 조건문(Conditional Statements)\r\n",
        "\r\n",
        "- 프로그램은 정해진 규칙에 따라 움직입니다. 그것이 가능하려면 판단을 할 수 있어야 합니다.\r\n",
        "- 사람은 추상적인 규칙에 따라서도 적절하게 판단할 수 있습니다.\r\n",
        "  - 사람은 이메일의 제목을 보면 높은 확률로 그것이 스팸 메일인지 아닌지 알 수 있습니다.\r\n",
        "- 하지만, 프로그램은 어떤 메일이 스팸메일인지 아닌지 파악하려면 구체적인 조건이 있어야 합니다.\r\n",
        "  - 예를 들어, 제목에 '광고'라는 단어가 있는 경우, 제목의 글자수가 30글자가 넘는 경우 처럼 구체적인 기준에 부합하는지에 따라 스팸메일인지 아닌지를 판단하게 됩니다.\r\n",
        "\r\n",
        "> 물론, 최근에는 기계학습을 통해 규칙이 없는 경우에도 스팸메일을 걸러낼 수 있지만, 그러기 위해서는 많은 양의 데이터가 필요합니다.  \r\n",
        "\r\n",
        "### 프로그램에서 사용하는 조건의 유형\r\n",
        "\r\n",
        "- 프로그램에서 자주 사용하는 조건은 2가지 입니다.\r\n",
        "1. 어떤 변수 A의 값이 다른 변수 B의 값보다 크다/작다/같다.\r\n",
        "2. 어떤 변수 A의 값이 다른 변수 B에 포함되어 있다/포함되어 있지 않다.\r\n",
        "\r\n",
        "- 조건문에서 비교하는 것은 변수의 값입니다.\r\n",
        "- 파이썬에서 조건문은 if(만약), else(아니면), elif 명령어로 작성합니다.\r\n",
        "  - elif는 'else if'를 줄인 것으로 이해하면 됩니다."
      ]
    },
    {
      "cell_type": "code",
      "metadata": {
        "id": "e9FVX83MQ4tG",
        "colab": {
          "base_uri": "https://localhost:8080/"
        },
        "outputId": "2c111765-c1de-4064-f61b-b95a91fb796c"
      },
      "source": [
        "# a = 3\r\n",
        "# b = 5\r\n",
        "\r\n",
        "# 만약 a가 b보다 크면\r\n",
        "if a > b:  \r\n",
        "  print(\"a가 b보다 큽니다\")\r\n",
        "# 아니면 a가 b보다 작으면\r\n",
        "elif a < b:\r\n",
        "  print(\"b가 a보다 큽니다\")\r\n",
        "# 아니면\r\n",
        "else:\r\n",
        "  print(\"a와 b는 같습니다.\")"
      ],
      "execution_count": 2,
      "outputs": [
        {
          "output_type": "stream",
          "text": [
            "b가 a보다 큽니다\n"
          ],
          "name": "stdout"
        }
      ]
    },
    {
      "cell_type": "markdown",
      "metadata": {
        "id": "I_AHRgrgQ7k7"
      },
      "source": [
        "- 크기를 비교할 수 없는 경우에는 포함되어 있는지를 기준으로 판단합니다."
      ]
    },
    {
      "cell_type": "code",
      "metadata": {
        "colab": {
          "base_uri": "https://localhost:8080/"
        },
        "id": "SupHG1JV1DnR",
        "outputId": "02870d71-9ea0-4fc5-b50c-8ce64b7d1856"
      },
      "source": [
        "big_city = ['서울', '인천', '대전', '광주', '부산', '대구', '울산']\r\n",
        "city1 = '대전'\r\n",
        "city2 = '세종'\r\n",
        "\r\n",
        "if city1 in big_city:\r\n",
        "  print(city1+'은 큰 도시입니다.')\r\n",
        "else:\r\n",
        "  print(city1+'은 큰 도시가 아닙니다.')\r\n",
        "\r\n",
        "if city2 in big_city:\r\n",
        "  print(city2+'은 큰 도시입니다.')\r\n",
        "else:\r\n",
        "  print(city2+'은 큰 도시가 아닙니다.')"
      ],
      "execution_count": 4,
      "outputs": [
        {
          "output_type": "stream",
          "text": [
            "대전은 큰 도시입니다.\n",
            "세종은 큰 도시가 아닙니다.\n"
          ],
          "name": "stdout"
        }
      ]
    }
  ]
}