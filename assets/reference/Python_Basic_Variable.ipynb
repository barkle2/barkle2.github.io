{
  "nbformat": 4,
  "nbformat_minor": 0,
  "metadata": {
    "colab": {
      "name": "Python_Basic_Variable.ipynb",
      "provenance": [],
      "collapsed_sections": []
    },
    "kernelspec": {
      "name": "python3",
      "display_name": "Python 3"
    }
  },
  "cells": [
    {
      "cell_type": "markdown",
      "metadata": {
        "id": "MRlyz9-TQ8WO"
      },
      "source": [
        "# 변수(variable)\r\n",
        "\r\n",
        "- 프로그래밍에 있어 가장 기초가 되는 개념이 무엇이냐고 물어본다면, 저는 **변수(variable)**라고 하겠습니다.\r\n",
        "- 변수는 값(value)을 저장합니다."
      ]
    },
    {
      "cell_type": "code",
      "metadata": {
        "id": "e9FVX83MQ4tG"
      },
      "source": [
        " # name 이라는 변수에 'barkle' 이라는 값을 저장\r\n",
        " name = 'barkle'\r\n",
        " # age 라는 변수에 42 라는 값을 저장\r\n",
        " age = 42\r\n",
        " # isMarried 라는 변수에 True 값을 저장\r\n",
        " isMarried = True"
      ],
      "execution_count": 6,
      "outputs": []
    },
    {
      "cell_type": "markdown",
      "metadata": {
        "id": "I_AHRgrgQ7k7"
      },
      "source": [
        "- 저장된 값은 다시 불러서 사용할 수 있습니다."
      ]
    },
    {
      "cell_type": "code",
      "metadata": {
        "colab": {
          "base_uri": "https://localhost:8080/"
        },
        "id": "SupHG1JV1DnR",
        "outputId": "6408e3a6-9225-4f7d-d9de-97ff7dab09ad"
      },
      "source": [
        "print(name)\r\n",
        "print(age)\r\n",
        "print(isMarried)"
      ],
      "execution_count": 7,
      "outputs": [
        {
          "output_type": "stream",
          "text": [
            "barkle\n",
            "42\n",
            "True\n"
          ],
          "name": "stdout"
        }
      ]
    },
    {
      "cell_type": "markdown",
      "metadata": {
        "id": "uxmbNnyC1nGK"
      },
      "source": [
        "- 여러 개의 값을 다양한 형태로 저장할 수도 있습니다.\r\n",
        "1. 리스트\r\n",
        "2. 튜플\r\n",
        "3. 딕셔너리"
      ]
    },
    {
      "cell_type": "code",
      "metadata": {
        "id": "ft6_rkkd1unx"
      },
      "source": [
        "# 리스트\r\n",
        "movie_list = ['광해', '태극기 휘날리며', '베테랑', '엑시트', '부산행']\r\n",
        "# 튜플\r\n",
        "actor_tuple = ('현빈', '손예진', '원빈', '이나영', '장동건', '고소영')\r\n",
        "# 딕셔너리\r\n",
        "sportstar_dictionary = { '축구':'손흥민', '야구':'류현진', '배구':'김연경', '농구':'김선형'}"
      ],
      "execution_count": null,
      "outputs": []
    },
    {
      "cell_type": "markdown",
      "metadata": {
        "id": "jdboqMqw3Owy"
      },
      "source": [
        "- 다른 라이브러리에서 만든 변수를 사용하는 것도 가능합니다."
      ]
    },
    {
      "cell_type": "code",
      "metadata": {
        "colab": {
          "base_uri": "https://localhost:8080/",
          "height": 111
        },
        "id": "e0vfPuby3ZHA",
        "outputId": "a06dc3ff-3b38-48de-a59e-57fc7a74cf10"
      },
      "source": [
        "import pandas as pd\r\n",
        "\r\n",
        "friend_dict_list = [\r\n",
        "  {'name': 'John', 'age':25, 'job': 'student'},\r\n",
        "  {'name': 'Nate', 'age':30, 'job': 'teacher'}\r\n",
        "]\r\n",
        "df = pd.DataFrame(friend_dict_list)\r\n",
        "df"
      ],
      "execution_count": null,
      "outputs": [
        {
          "output_type": "execute_result",
          "data": {
            "text/html": [
              "<div>\n",
              "<style scoped>\n",
              "    .dataframe tbody tr th:only-of-type {\n",
              "        vertical-align: middle;\n",
              "    }\n",
              "\n",
              "    .dataframe tbody tr th {\n",
              "        vertical-align: top;\n",
              "    }\n",
              "\n",
              "    .dataframe thead th {\n",
              "        text-align: right;\n",
              "    }\n",
              "</style>\n",
              "<table border=\"1\" class=\"dataframe\">\n",
              "  <thead>\n",
              "    <tr style=\"text-align: right;\">\n",
              "      <th></th>\n",
              "      <th>name</th>\n",
              "      <th>age</th>\n",
              "      <th>job</th>\n",
              "    </tr>\n",
              "  </thead>\n",
              "  <tbody>\n",
              "    <tr>\n",
              "      <th>0</th>\n",
              "      <td>John</td>\n",
              "      <td>25</td>\n",
              "      <td>student</td>\n",
              "    </tr>\n",
              "    <tr>\n",
              "      <th>1</th>\n",
              "      <td>Nate</td>\n",
              "      <td>30</td>\n",
              "      <td>teacher</td>\n",
              "    </tr>\n",
              "  </tbody>\n",
              "</table>\n",
              "</div>"
            ],
            "text/plain": [
              "   name  age      job\n",
              "0  John   25  student\n",
              "1  Nate   30  teacher"
            ]
          },
          "metadata": {
            "tags": []
          },
          "execution_count": 4
        }
      ]
    },
    {
      "cell_type": "markdown",
      "metadata": {
        "id": "kqnAS-uO36vg"
      },
      "source": [
        "# 변수의 의미\r\n",
        "- 변수의 종류나 형태, 사용방법을 외우는 것도 중요하지만, 더 중요한 것은 변수가 어떤 역할을 하는지 파악하는 것입니다.\r\n",
        "- 결국 **프로그램은 원하는 변수에 원하는 값을 입력하는 행위**입니다.\r\n",
        "- 변수에는 다양한 값들이 들어갈 수 있다는 전제 하에 변수를 활용하여 원하는 값을 얻어낼 수 있는 과정을 설계해야 합니다."
      ]
    },
    {
      "cell_type": "markdown",
      "metadata": {
        "id": "or8PBZWk8cyC"
      },
      "source": [
        "### 예제: 구구단\r\n",
        "- 다음 프로그램은 아주 간단한 형태를 가지고 있습니다.\r\n",
        "  1. 원하는 값을 number라는 변수에 입력하고,\r\n",
        "  2. 그 값을 이용하여 구구단을 계산하고,\r\n",
        "  3. 그 값을 출력합니다."
      ]
    },
    {
      "cell_type": "code",
      "metadata": {
        "colab": {
          "base_uri": "https://localhost:8080/"
        },
        "id": "aupq9OgY4ow6",
        "outputId": "8a4bddd3-4c59-4d5f-bd1b-15163e767f7e"
      },
      "source": [
        "number = input('숫자를 입력하시오:')\r\n",
        "for i in range(1,10):\r\n",
        "  print(number, \"*\", i, \"=\", int(number)*i)"
      ],
      "execution_count": null,
      "outputs": [
        {
          "output_type": "stream",
          "text": [
            "숫자를 입력하시오:7\n",
            "7 * 1 = 7\n",
            "7 * 2 = 14\n",
            "7 * 3 = 21\n",
            "7 * 4 = 28\n",
            "7 * 5 = 35\n",
            "7 * 6 = 42\n",
            "7 * 7 = 49\n",
            "7 * 8 = 56\n",
            "7 * 9 = 63\n"
          ],
          "name": "stdout"
        }
      ]
    }
  ]
}