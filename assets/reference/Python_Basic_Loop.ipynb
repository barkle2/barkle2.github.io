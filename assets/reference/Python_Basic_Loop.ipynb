{
  "nbformat": 4,
  "nbformat_minor": 0,
  "metadata": {
    "colab": {
      "name": "Python_Basic_Loop.ipynb",
      "provenance": [],
      "collapsed_sections": []
    },
    "kernelspec": {
      "name": "python3",
      "display_name": "Python 3"
    }
  },
  "cells": [
    {
      "cell_type": "markdown",
      "metadata": {
        "id": "MVxSHjEfdtjn"
      },
      "source": [
        "### 반복문(Loop Statements)\n",
        "\n",
        "- 프로그램을 업무에 사용할 때 가장 좋은 점은 반복되는 작업을 매우 빠르게 해결해준다는 점입니다.\n",
        "- 반복문에는 for 문과 while 문이 있습니다.\n",
        "\n",
        "### 반복문 활용 사례\n",
        "\n",
        "- for 문은 list 안에 있는 값들을 차례대로 사용하여 반복문을 실행합니다.\n",
        "- 예를 들어 list에 숫자들이 들어있다면, 그 숫자들을 차례대로 대입해줍니다."
      ]
    },
    {
      "cell_type": "code",
      "metadata": {
        "colab": {
          "base_uri": "https://localhost:8080/"
        },
        "id": "EavTF-JOd00Q",
        "outputId": "d14068ef-5d07-4872-f26a-efeae97022ea"
      },
      "source": [
        "list_values = [1,2,3,4,5,6,7,8,9]\n",
        "for i in list_values:\n",
        "  print(\"반복문이 \", i,\"번째 실행되었습니다.\")"
      ],
      "execution_count": 4,
      "outputs": [
        {
          "output_type": "stream",
          "text": [
            "반복문이  1 번째 실행되었습니다.\n",
            "반복문이  2 번째 실행되었습니다.\n",
            "반복문이  3 번째 실행되었습니다.\n",
            "반복문이  4 번째 실행되었습니다.\n",
            "반복문이  5 번째 실행되었습니다.\n",
            "반복문이  6 번째 실행되었습니다.\n",
            "반복문이  7 번째 실행되었습니다.\n",
            "반복문이  8 번째 실행되었습니다.\n",
            "반복문이  9 번째 실행되었습니다.\n"
          ],
          "name": "stdout"
        }
      ]
    },
    {
      "cell_type": "code",
      "metadata": {
        "colab": {
          "base_uri": "https://localhost:8080/"
        },
        "id": "1uq6Ukujemo6",
        "outputId": "3c69bd9e-938e-4dce-f54a-61465ebebd0e"
      },
      "source": [
        "nation_list = ['USA', 'UK', 'France', 'China', 'Indo', 'Korea']\n",
        "city_list = ['LA', 'London', 'Paris', 'Shanghai', 'Mumbai', 'Busan']\n",
        "num_list = [3,2,1,4,5,6]\n",
        "\n",
        "for i in num_list:\n",
        "  print(city_list[i-1], \"는 \", nation_list[i-1], \"에 속한 도시입니다.\")"
      ],
      "execution_count": 5,
      "outputs": [
        {
          "output_type": "stream",
          "text": [
            "Paris 는  France 에 속한 도시입니다.\n",
            "London 는  UK 에 속한 도시입니다.\n",
            "LA 는  USA 에 속한 도시입니다.\n",
            "Shanghai 는  China 에 속한 도시입니다.\n",
            "Mumbai 는  Indo 에 속한 도시입니다.\n",
            "Busan 는  Korea 에 속한 도시입니다.\n"
          ],
          "name": "stdout"
        }
      ]
    },
    {
      "cell_type": "markdown",
      "metadata": {
        "id": "_vhlC_ougd1l"
      },
      "source": [
        "- while 문은 for 문과는 약간 다른 형태의 반복문입니다.\n",
        "- while 다음에 오는 조건이 참이면 끝나지 않고 반복해서 실행됩니다."
      ]
    },
    {
      "cell_type": "code",
      "metadata": {
        "colab": {
          "base_uri": "https://localhost:8080/"
        },
        "id": "4nL6JtnBfZb7",
        "outputId": "61ec403e-f2cf-4ebc-e8c5-33744af387b5"
      },
      "source": [
        "a = 1\n",
        "while a<5:\n",
        "  print(a)\n",
        "  a = a+1"
      ],
      "execution_count": 6,
      "outputs": [
        {
          "output_type": "stream",
          "text": [
            "1\n",
            "2\n",
            "3\n",
            "4\n"
          ],
          "name": "stdout"
        }
      ]
    },
    {
      "cell_type": "markdown",
      "metadata": {
        "id": "XRKU9wN4ga18"
      },
      "source": [
        "- continue와 break는 반복문을 사용할 때 자주 사용하는 명령어입니다.\n",
        "- break는 반복문을 완전히 빠져나오고, continue는 반복문을 1회만 건너뜁니다."
      ]
    },
    {
      "cell_type": "code",
      "metadata": {
        "colab": {
          "base_uri": "https://localhost:8080/"
        },
        "id": "3tP_MmRHgYBM",
        "outputId": "960dff9c-50ab-4227-c41b-3ae8e94af0f6"
      },
      "source": [
        "num_list = [1,2,3,4,5,6,7,8,9]\n",
        "for i in num_list:\n",
        "  if i == 3:\n",
        "    continue\n",
        "  if i == 7:\n",
        "    break\n",
        "  print(i)"
      ],
      "execution_count": 7,
      "outputs": [
        {
          "output_type": "stream",
          "text": [
            "1\n",
            "2\n",
            "4\n",
            "5\n",
            "6\n"
          ],
          "name": "stdout"
        }
      ]
    },
    {
      "cell_type": "markdown",
      "metadata": {
        "id": "_ayy9nSLiw6f"
      },
      "source": [
        "### 반복문의 의미\n",
        "\n",
        "- 반복문이지만, 모든 것이 완전히 동일한 상태에서 반복하는 경우는 거의 없습니다. 변수의 값이 약간씩 달라지면서 우리가 원하는 작업을 할 수 있게 됩니다.\n",
        "- 만약 우리가 하는 일의 성격이 반복문과 비슷하다면 컴퓨터도 그 일을 할 수 있을 가능성이 높습니다.\n",
        "  - 매번 비슷한 보고서를 쓰면서 통계만 최신의 통계로 바꾸는 일, 항상 똑같은 신청서를 매뉴얼에 따라 처리하는 업무가 바로 그렇습니다.\n",
        "- 반복문으로 할 수 있는 일은 컴퓨터가 하도록 하고, 사람은 보다 창의적이고 새로운 문제를 해결하기 위해 노력해야 합니다."
      ]
    }
  ]
}